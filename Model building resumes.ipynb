{
 "cells": [
  {
   "cell_type": "code",
   "execution_count": 21,
   "id": "2c589db0",
   "metadata": {},
   "outputs": [],
   "source": [
    "from sklearn.feature_extraction.text import TfidfVectorizer\n",
    "from sklearn.naive_bayes import MultinomialNB\n",
    "from sklearn.multiclass import OneVsRestClassifier\n",
    "from sklearn.model_selection import train_test_split,cross_val_score\n",
    "from sklearn.feature_extraction.text import TfidfVectorizer\n",
    "from sklearn.metrics import f1_score,precision_score,confusion_matrix,recall_score,accuracy_score\n",
    "from sklearn.ensemble import RandomForestClassifier\n",
    "from sklearn.tree import DecisionTreeClassifier\n",
    "from sklearn.svm import SVC\n",
    "from sklearn.linear_model import LogisticRegression\n",
    "from sklearn.ensemble import AdaBoostClassifier,GradientBoostingClassifier\n",
    "from xgboost import XGBClassifier\n",
    "from nltk.classify import NaiveBayesClassifier\n",
    "from collections import Counter\n",
    "from sklearn.feature_extraction.text import CountVectorizer, TfidfVectorizer\n",
    "from sklearn.linear_model import LogisticRegression\n",
    "from sklearn.model_selection import train_test_split\n",
    "from sklearn.metrics import f1_score, confusion_matrix, accuracy_score, classification_report\n",
    "from sklearn.svm import SVC\n",
    "from sklearn.naive_bayes import GaussianNB\n",
    "from textblob import TextBlob\n",
    "from textblob.sentiments import NaiveBayesAnalyzer\n",
    "from textblob.np_extractors import ConllExtractor\n",
    "from sklearn.feature_extraction.text import CountVectorizer \n",
    "from sklearn.pipeline import make_pipeline\n",
    "from nltk.tokenize import RegexpTokenizer\n",
    "#warnings.filterwarnings(\"ignore\", category=DeprecationWarning)\n",
    "import pandas as pd\n",
    "import seaborn as sns\n",
    "import matplotlib.pyplot as plt"
   ]
  },
  {
   "cell_type": "code",
   "execution_count": 11,
   "id": "feb7ac95",
   "metadata": {},
   "outputs": [
    {
     "data": {
      "text/html": [
       "<div>\n",
       "<style scoped>\n",
       "    .dataframe tbody tr th:only-of-type {\n",
       "        vertical-align: middle;\n",
       "    }\n",
       "\n",
       "    .dataframe tbody tr th {\n",
       "        vertical-align: top;\n",
       "    }\n",
       "\n",
       "    .dataframe thead th {\n",
       "        text-align: right;\n",
       "    }\n",
       "</style>\n",
       "<table border=\"1\" class=\"dataframe\">\n",
       "  <thead>\n",
       "    <tr style=\"text-align: right;\">\n",
       "      <th></th>\n",
       "      <th>Category</th>\n",
       "      <th>Cleaned_Resumes</th>\n",
       "      <th>Encoded_Skill</th>\n",
       "    </tr>\n",
       "  </thead>\n",
       "  <tbody>\n",
       "    <tr>\n",
       "      <th>0</th>\n",
       "      <td>React JS Developer Resume</td>\n",
       "      <td>name ravali p curriculum vitae specialization ...</td>\n",
       "      <td>1</td>\n",
       "    </tr>\n",
       "    <tr>\n",
       "      <th>1</th>\n",
       "      <td>React JS Developer Resume</td>\n",
       "      <td>mareedu lokesh babu professional overview arou...</td>\n",
       "      <td>1</td>\n",
       "    </tr>\n",
       "    <tr>\n",
       "      <th>2</th>\n",
       "      <td>React JS Developer Resume</td>\n",
       "      <td>susovan bag seeking a challenging position in ...</td>\n",
       "      <td>1</td>\n",
       "    </tr>\n",
       "    <tr>\n",
       "      <th>3</th>\n",
       "      <td>React JS Developer Resume</td>\n",
       "      <td>haripriya battina experience as ui developer i...</td>\n",
       "      <td>1</td>\n",
       "    </tr>\n",
       "    <tr>\n",
       "      <th>4</th>\n",
       "      <td>React JS Developer Resume</td>\n",
       "      <td>name m prabakaran title ui developer professio...</td>\n",
       "      <td>1</td>\n",
       "    </tr>\n",
       "    <tr>\n",
       "      <th>...</th>\n",
       "      <td>...</td>\n",
       "      <td>...</td>\n",
       "      <td>...</td>\n",
       "    </tr>\n",
       "    <tr>\n",
       "      <th>74</th>\n",
       "      <td>Workday Resume</td>\n",
       "      <td>years of it experience as workday hcm technica...</td>\n",
       "      <td>3</td>\n",
       "    </tr>\n",
       "    <tr>\n",
       "      <th>75</th>\n",
       "      <td>Workday Resume</td>\n",
       "      <td>ramesh a workday hcm consultant professional s...</td>\n",
       "      <td>3</td>\n",
       "    </tr>\n",
       "    <tr>\n",
       "      <th>76</th>\n",
       "      <td>Workday Resume</td>\n",
       "      <td>name j sumanth royal professional summary have...</td>\n",
       "      <td>3</td>\n",
       "    </tr>\n",
       "    <tr>\n",
       "      <th>77</th>\n",
       "      <td>Workday Resume</td>\n",
       "      <td>vinay kumar v workday functional consultant ex...</td>\n",
       "      <td>3</td>\n",
       "    </tr>\n",
       "    <tr>\n",
       "      <th>78</th>\n",
       "      <td>Workday Resume</td>\n",
       "      <td>srikanth workday hcm consultant seeking suitab...</td>\n",
       "      <td>3</td>\n",
       "    </tr>\n",
       "  </tbody>\n",
       "</table>\n",
       "<p>79 rows × 3 columns</p>\n",
       "</div>"
      ],
      "text/plain": [
       "                     Category  \\\n",
       "0   React JS Developer Resume   \n",
       "1   React JS Developer Resume   \n",
       "2   React JS Developer Resume   \n",
       "3   React JS Developer Resume   \n",
       "4   React JS Developer Resume   \n",
       "..                        ...   \n",
       "74             Workday Resume   \n",
       "75             Workday Resume   \n",
       "76             Workday Resume   \n",
       "77             Workday Resume   \n",
       "78             Workday Resume   \n",
       "\n",
       "                                      Cleaned_Resumes  Encoded_Skill  \n",
       "0   name ravali p curriculum vitae specialization ...              1  \n",
       "1   mareedu lokesh babu professional overview arou...              1  \n",
       "2   susovan bag seeking a challenging position in ...              1  \n",
       "3   haripriya battina experience as ui developer i...              1  \n",
       "4   name m prabakaran title ui developer professio...              1  \n",
       "..                                                ...            ...  \n",
       "74  years of it experience as workday hcm technica...              3  \n",
       "75  ramesh a workday hcm consultant professional s...              3  \n",
       "76  name j sumanth royal professional summary have...              3  \n",
       "77  vinay kumar v workday functional consultant ex...              3  \n",
       "78  srikanth workday hcm consultant seeking suitab...              3  \n",
       "\n",
       "[79 rows x 3 columns]"
      ]
     },
     "execution_count": 11,
     "metadata": {},
     "output_type": "execute_result"
    }
   ],
   "source": [
    "data = pd.read_csv(\"C:\\\\Users\\\\shama\\\\Desktop\\\\ExcelR Project 2\\\\cleaned_data.csv\")\n",
    "data"
   ]
  },
  {
   "cell_type": "code",
   "execution_count": 12,
   "id": "e63458fd",
   "metadata": {},
   "outputs": [],
   "source": [
    "requiredText = data['Cleaned_Resumes'].values\n",
    "requiredTarget = data['Encoded_Skill'].values\n",
    "\n",
    "word_vectorizer = TfidfVectorizer(sublinear_tf=True,stop_words='english')\n",
    "word_vectorizer.fit(requiredText)\n",
    "WordFeatures = word_vectorizer.transform(requiredText)"
   ]
  },
  {
   "cell_type": "code",
   "execution_count": 13,
   "id": "8b5905a9",
   "metadata": {},
   "outputs": [
    {
     "data": {
      "text/plain": [
       "((63, 4736), (16, 4736))"
      ]
     },
     "execution_count": 13,
     "metadata": {},
     "output_type": "execute_result"
    }
   ],
   "source": [
    "from sklearn.model_selection import train_test_split\n",
    "X_train, X_test, y_train, y_test = train_test_split(WordFeatures, requiredTarget, random_state=45, test_size=0.20,stratify=requiredTarget)\n",
    "X_train.shape, X_test.shape"
   ]
  },
  {
   "cell_type": "markdown",
   "id": "43290b98",
   "metadata": {},
   "source": [
    "# 1. Logistic Regression"
   ]
  },
  {
   "cell_type": "code",
   "execution_count": 14,
   "id": "773c8386",
   "metadata": {},
   "outputs": [
    {
     "data": {
      "text/plain": [
       "LogisticRegression()"
      ]
     },
     "execution_count": 14,
     "metadata": {},
     "output_type": "execute_result"
    }
   ],
   "source": [
    "lg = LogisticRegression()\n",
    "lg.fit(X_train,y_train)"
   ]
  },
  {
   "cell_type": "code",
   "execution_count": 15,
   "id": "d80c5956",
   "metadata": {},
   "outputs": [],
   "source": [
    "predict1 = lg.predict(X_test)"
   ]
  },
  {
   "cell_type": "code",
   "execution_count": 16,
   "id": "d5052767",
   "metadata": {},
   "outputs": [
    {
     "data": {
      "text/plain": [
       "0.9375"
      ]
     },
     "execution_count": 16,
     "metadata": {},
     "output_type": "execute_result"
    }
   ],
   "source": [
    "accuracy_1 = accuracy_score(y_test,predict1)\n",
    "accuracy_1"
   ]
  },
  {
   "cell_type": "code",
   "execution_count": 17,
   "id": "e7d0d198",
   "metadata": {},
   "outputs": [
    {
     "data": {
      "text/plain": [
       "array([[4, 0, 0, 0],\n",
       "       [0, 5, 0, 0],\n",
       "       [0, 1, 2, 0],\n",
       "       [0, 0, 0, 4]], dtype=int64)"
      ]
     },
     "execution_count": 17,
     "metadata": {},
     "output_type": "execute_result"
    }
   ],
   "source": [
    "cm = confusion_matrix(y_test,predict1)\n",
    "cm"
   ]
  },
  {
   "cell_type": "code",
   "execution_count": 22,
   "id": "7daf21de",
   "metadata": {},
   "outputs": [
    {
     "data": {
      "text/plain": [
       "Text(33.0, 0.5, 'Truth')"
      ]
     },
     "execution_count": 22,
     "metadata": {},
     "output_type": "execute_result"
    },
    {
     "data": {
      "image/png": "[encoded data removed]",
      "text/plain": [
       "<Figure size 432x288 with 2 Axes>"
      ]
     },
     "metadata": {
      "needs_background": "light"
     },
     "output_type": "display_data"
    }
   ],
   "source": [
    "sns.heatmap(cm,annot=True)\n",
    "plt.xlabel(\"Predicted\")\n",
    "plt.ylabel(\"Truth\")"
   ]
  },
  {
   "cell_type": "code",
   "execution_count": 23,
   "id": "eefc6106",
   "metadata": {},
   "outputs": [
    {
     "name": "stdout",
     "output_type": "stream",
     "text": [
      "              precision    recall  f1-score   support\n",
      "\n",
      "           0       1.00      1.00      1.00         4\n",
      "           1       0.83      1.00      0.91         5\n",
      "           2       1.00      0.67      0.80         3\n",
      "           3       1.00      1.00      1.00         4\n",
      "\n",
      "    accuracy                           0.94        16\n",
      "   macro avg       0.96      0.92      0.93        16\n",
      "weighted avg       0.95      0.94      0.93        16\n",
      "\n"
     ]
    }
   ],
   "source": [
    "print(classification_report(y_test,predict1))"
   ]
  },
  {
   "cell_type": "code",
   "execution_count": 24,
   "id": "1efadb5a",
   "metadata": {},
   "outputs": [],
   "source": [
    "accuracy_1 = round(accuracy_score(y_test,predict1),4)\n",
    "precision_1 = round(precision_score(y_test,predict1,average = 'macro'),4)\n",
    "recall_1 = round(recall_score(y_test,predict1, average = 'macro'),4)\n",
    "f1_1 = round(f1_score(y_test,predict1, average = 'macro'),4)"
   ]
  },
  {
   "cell_type": "code",
   "execution_count": 25,
   "id": "c23c8997",
   "metadata": {},
   "outputs": [
    {
     "name": "stdout",
     "output_type": "stream",
     "text": [
      "Accuracy Score  :  0.9375\n",
      "Precision Score :  0.9583\n",
      "Recall Score    :  0.9167\n",
      "f1-Score        :  0.9273\n"
     ]
    }
   ],
   "source": [
    "print('Accuracy Score  : ', accuracy_1)\n",
    "print('Precision Score : ', precision_1)\n",
    "print('Recall Score    : ', recall_1)\n",
    "print('f1-Score        : ', f1_1)"
   ]
  },
  {
   "cell_type": "markdown",
   "id": "19b9d654",
   "metadata": {},
   "source": [
    "# 2. Support Vector Machine Classifier(SVC)"
   ]
  },
  {
   "cell_type": "code",
   "execution_count": 26,
   "id": "c82f86fc",
   "metadata": {},
   "outputs": [],
   "source": [
    "sv = SVC()\n",
    "sv.fit(X_train,y_train)\n",
    "predict2 = sv.predict(X_test)"
   ]
  },
  {
   "cell_type": "code",
   "execution_count": 27,
   "id": "cc925311",
   "metadata": {},
   "outputs": [
    {
     "data": {
      "text/plain": [
       "0.875"
      ]
     },
     "execution_count": 27,
     "metadata": {},
     "output_type": "execute_result"
    }
   ],
   "source": [
    "accuracy_2 = accuracy_score(y_test,predict2)\n",
    "accuracy_2"
   ]
  },
  {
   "cell_type": "code",
   "execution_count": 28,
   "id": "f9ea28ff",
   "metadata": {},
   "outputs": [
    {
     "data": {
      "text/plain": [
       "array([[3, 1, 0, 0],\n",
       "       [0, 5, 0, 0],\n",
       "       [0, 1, 2, 0],\n",
       "       [0, 0, 0, 4]], dtype=int64)"
      ]
     },
     "execution_count": 28,
     "metadata": {},
     "output_type": "execute_result"
    }
   ],
   "source": [
    "cm2 = confusion_matrix(y_test,predict2)\n",
    "cm2"
   ]
  },
  {
   "cell_type": "code",
   "execution_count": 29,
   "id": "2e9f6bd5",
   "metadata": {},
   "outputs": [
    {
     "data": {
      "text/plain": [
       "Text(33.0, 0.5, 'Truth')"
      ]
     },
     "execution_count": 29,
     "metadata": {},
     "output_type": "execute_result"
    },
    {
     "data": {
      "image/png": "[encoded data removed]",
      "text/plain": [
       "<Figure size 432x288 with 2 Axes>"
      ]
     },
     "metadata": {
      "needs_background": "light"
     },
     "output_type": "display_data"
    }
   ],
   "source": [
    "sns.heatmap(cm2,annot=True)\n",
    "plt.xlabel(\"Predicted\")\n",
    "plt.ylabel(\"Truth\")"
   ]
  },
  {
   "cell_type": "code",
   "execution_count": 30,
   "id": "76b8e9ba",
   "metadata": {},
   "outputs": [
    {
     "name": "stdout",
     "output_type": "stream",
     "text": [
      "              precision    recall  f1-score   support\n",
      "\n",
      "           0       1.00      0.75      0.86         4\n",
      "           1       0.71      1.00      0.83         5\n",
      "           2       1.00      0.67      0.80         3\n",
      "           3       1.00      1.00      1.00         4\n",
      "\n",
      "    accuracy                           0.88        16\n",
      "   macro avg       0.93      0.85      0.87        16\n",
      "weighted avg       0.91      0.88      0.87        16\n",
      "\n"
     ]
    }
   ],
   "source": [
    "print(classification_report(y_test,predict2))"
   ]
  },
  {
   "cell_type": "code",
   "execution_count": 31,
   "id": "43deb609",
   "metadata": {},
   "outputs": [],
   "source": [
    "accuracy_2 = round(accuracy_score(y_test,predict2),4)\n",
    "precision_2 = round(precision_score(y_test,predict2,average = 'macro'),4)\n",
    "recall_2 = round(recall_score(y_test,predict2, average = 'macro'),4)\n",
    "f1_2 = round(f1_score(y_test,predict2, average = 'macro'),4)"
   ]
  },
  {
   "cell_type": "code",
   "execution_count": 32,
   "id": "a6ee07ae",
   "metadata": {},
   "outputs": [
    {
     "name": "stdout",
     "output_type": "stream",
     "text": [
      "Accuracy Score  :  0.875\n",
      "Precision Score :  0.9286\n",
      "Recall Score    :  0.8542\n",
      "f1-Score        :  0.8726\n"
     ]
    }
   ],
   "source": [
    "print('Accuracy Score  : ', accuracy_2)\n",
    "print('Precision Score : ', precision_2)\n",
    "print('Recall Score    : ', recall_2)\n",
    "print('f1-Score        : ', f1_2)"
   ]
  },
  {
   "cell_type": "markdown",
   "id": "34fc7cfa",
   "metadata": {},
   "source": [
    "# 3. Random Forest Classifier"
   ]
  },
  {
   "cell_type": "code",
   "execution_count": 33,
   "id": "160a3089",
   "metadata": {},
   "outputs": [],
   "source": [
    "rf = RandomForestClassifier()\n",
    "rf.fit(X_train,y_train)\n",
    "predict3=rf.predict(X_test)"
   ]
  },
  {
   "cell_type": "code",
   "execution_count": 34,
   "id": "8e082bdd",
   "metadata": {},
   "outputs": [
    {
     "data": {
      "text/plain": [
       "1.0"
      ]
     },
     "execution_count": 34,
     "metadata": {},
     "output_type": "execute_result"
    }
   ],
   "source": [
    "accuracy_3 = accuracy_score(y_test,predict3)\n",
    "accuracy_3"
   ]
  },
  {
   "cell_type": "code",
   "execution_count": 35,
   "id": "e160da8f",
   "metadata": {},
   "outputs": [
    {
     "data": {
      "text/plain": [
       "array([[4, 0, 0, 0],\n",
       "       [0, 5, 0, 0],\n",
       "       [0, 0, 3, 0],\n",
       "       [0, 0, 0, 4]], dtype=int64)"
      ]
     },
     "execution_count": 35,
     "metadata": {},
     "output_type": "execute_result"
    }
   ],
   "source": [
    "cm3 = confusion_matrix(y_test,predict3)\n",
    "cm3"
   ]
  },
  {
   "cell_type": "code",
   "execution_count": 36,
   "id": "0bd077f3",
   "metadata": {},
   "outputs": [
    {
     "data": {
      "text/plain": [
       "Text(33.0, 0.5, 'Truth')"
      ]
     },
     "execution_count": 36,
     "metadata": {},
     "output_type": "execute_result"
    },
    {
     "data": {
      "image/png": "[encoded data removed]",
      "text/plain": [
       "<Figure size 432x288 with 2 Axes>"
      ]
     },
     "metadata": {
      "needs_background": "light"
     },
     "output_type": "display_data"
    }
   ],
   "source": [
    "sns.heatmap(cm3,annot=True)\n",
    "plt.xlabel(\"Predicted\")\n",
    "plt.ylabel(\"Truth\")"
   ]
  },
  {
   "cell_type": "code",
   "execution_count": 37,
   "id": "5505175e",
   "metadata": {},
   "outputs": [
    {
     "name": "stdout",
     "output_type": "stream",
     "text": [
      "              precision    recall  f1-score   support\n",
      "\n",
      "           0       1.00      1.00      1.00         4\n",
      "           1       1.00      1.00      1.00         5\n",
      "           2       1.00      1.00      1.00         3\n",
      "           3       1.00      1.00      1.00         4\n",
      "\n",
      "    accuracy                           1.00        16\n",
      "   macro avg       1.00      1.00      1.00        16\n",
      "weighted avg       1.00      1.00      1.00        16\n",
      "\n"
     ]
    }
   ],
   "source": [
    "print(classification_report(y_test,predict3))"
   ]
  },
  {
   "cell_type": "code",
   "execution_count": 38,
   "id": "b99cbce9",
   "metadata": {},
   "outputs": [
    {
     "name": "stdout",
     "output_type": "stream",
     "text": [
      "Accuracy Score  :  1.0\n",
      "Precision Score :  1.0\n",
      "Recall Score    :  1.0\n",
      "f1-Score        :  1.0\n"
     ]
    }
   ],
   "source": [
    "accuracy_3 = round(accuracy_score(y_test,predict3),4)\n",
    "precision_3 = round(precision_score(y_test,predict3,average = 'macro'),4)\n",
    "recall_3 = round(recall_score(y_test,predict3, average = 'macro'),4)\n",
    "f1_3 = round(f1_score(y_test,predict3, average = 'macro'),4)\n",
    "\n",
    "print('Accuracy Score  : ', accuracy_3)\n",
    "print('Precision Score : ', precision_3)\n",
    "print('Recall Score    : ', recall_3)\n",
    "print('f1-Score        : ', f1_3)"
   ]
  },
  {
   "cell_type": "markdown",
   "id": "5f3c5cf2",
   "metadata": {},
   "source": [
    "# 4. Naive-Bayes Classifier"
   ]
  },
  {
   "cell_type": "code",
   "execution_count": 39,
   "id": "3c9e4cca",
   "metadata": {},
   "outputs": [],
   "source": [
    "nb=MultinomialNB()\n",
    "nb.fit(X_train,y_train)\n",
    "predict4=nb.predict(X_test)"
   ]
  },
  {
   "cell_type": "code",
   "execution_count": 40,
   "id": "2cbaf2a5",
   "metadata": {},
   "outputs": [
    {
     "data": {
      "text/plain": [
       "0.875"
      ]
     },
     "execution_count": 40,
     "metadata": {},
     "output_type": "execute_result"
    }
   ],
   "source": [
    "accuracy_4 = accuracy_score(y_test,predict4)\n",
    "accuracy_4"
   ]
  },
  {
   "cell_type": "code",
   "execution_count": 41,
   "id": "3811f2f9",
   "metadata": {},
   "outputs": [
    {
     "data": {
      "text/plain": [
       "array([[3, 0, 0, 1],\n",
       "       [0, 5, 0, 0],\n",
       "       [0, 1, 2, 0],\n",
       "       [0, 0, 0, 4]], dtype=int64)"
      ]
     },
     "execution_count": 41,
     "metadata": {},
     "output_type": "execute_result"
    }
   ],
   "source": [
    "cm4=confusion_matrix(y_test,predict4)\n",
    "cm4"
   ]
  },
  {
   "cell_type": "code",
   "execution_count": 42,
   "id": "4958e3f0",
   "metadata": {},
   "outputs": [
    {
     "data": {
      "text/plain": [
       "Text(33.0, 0.5, 'Truth')"
      ]
     },
     "execution_count": 42,
     "metadata": {},
     "output_type": "execute_result"
    },
    {
     "data": {
      "image/png": "[encoded data removed]",
      "text/plain": [
       "<Figure size 432x288 with 2 Axes>"
      ]
     },
     "metadata": {
      "needs_background": "light"
     },
     "output_type": "display_data"
    }
   ],
   "source": [
    "sns.heatmap(cm4,annot=True)\n",
    "plt.xlabel(\"Predicted\")\n",
    "plt.ylabel(\"Truth\")"
   ]
  },
  {
   "cell_type": "code",
   "execution_count": 43,
   "id": "cc6d5f8e",
   "metadata": {},
   "outputs": [
    {
     "name": "stdout",
     "output_type": "stream",
     "text": [
      "              precision    recall  f1-score   support\n",
      "\n",
      "           0       1.00      0.75      0.86         4\n",
      "           1       0.83      1.00      0.91         5\n",
      "           2       1.00      0.67      0.80         3\n",
      "           3       0.80      1.00      0.89         4\n",
      "\n",
      "    accuracy                           0.88        16\n",
      "   macro avg       0.91      0.85      0.86        16\n",
      "weighted avg       0.90      0.88      0.87        16\n",
      "\n"
     ]
    }
   ],
   "source": [
    "print(classification_report(y_test,predict4))"
   ]
  },
  {
   "cell_type": "code",
   "execution_count": 44,
   "id": "c4ad903f",
   "metadata": {},
   "outputs": [
    {
     "name": "stdout",
     "output_type": "stream",
     "text": [
      "Accuracy Score  :  0.875\n",
      "Precision Score :  0.9083\n",
      "Recall Score    :  0.8542\n",
      "f1-Score        :  0.8638\n"
     ]
    }
   ],
   "source": [
    "accuracy_4 = round(accuracy_score(y_test,predict4),4)\n",
    "precision_4 = round(precision_score(y_test,predict4,average = 'macro'),4)\n",
    "recall_4 = round(recall_score(y_test,predict4, average = 'macro'),4)\n",
    "f1_4 = round(f1_score(y_test,predict4, average = 'macro'),4)\n",
    "\n",
    "print('Accuracy Score  : ', accuracy_4)\n",
    "print('Precision Score : ', precision_4)\n",
    "print('Recall Score    : ', recall_4)\n",
    "print('f1-Score        : ', f1_4)"
   ]
  },
  {
   "cell_type": "markdown",
   "id": "464a71ad",
   "metadata": {},
   "source": [
    "# 5. Decision Tree Classifier"
   ]
  },
  {
   "cell_type": "code",
   "execution_count": 45,
   "id": "18c516c1",
   "metadata": {},
   "outputs": [],
   "source": [
    "dt = DecisionTreeClassifier(max_depth=3)\n",
    "dt.fit(X_train,y_train)\n",
    "predict5=dt.predict(X_test)"
   ]
  },
  {
   "cell_type": "code",
   "execution_count": 46,
   "id": "c9886fc3",
   "metadata": {},
   "outputs": [
    {
     "data": {
      "text/plain": [
       "0.9375"
      ]
     },
     "execution_count": 46,
     "metadata": {},
     "output_type": "execute_result"
    }
   ],
   "source": [
    "accuracy_5 = accuracy_score(y_test,predict5)\n",
    "accuracy_5"
   ]
  },
  {
   "cell_type": "code",
   "execution_count": 47,
   "id": "fb0b332d",
   "metadata": {},
   "outputs": [
    {
     "data": {
      "text/plain": [
       "array([[4, 0, 0, 0],\n",
       "       [0, 5, 0, 0],\n",
       "       [0, 1, 2, 0],\n",
       "       [0, 0, 0, 4]], dtype=int64)"
      ]
     },
     "execution_count": 47,
     "metadata": {},
     "output_type": "execute_result"
    }
   ],
   "source": [
    "cm5=confusion_matrix(y_test,predict5)\n",
    "cm5"
   ]
  },
  {
   "cell_type": "code",
   "execution_count": 48,
   "id": "39168905",
   "metadata": {},
   "outputs": [
    {
     "data": {
      "text/plain": [
       "Text(33.0, 0.5, 'Truth')"
      ]
     },
     "execution_count": 48,
     "metadata": {},
     "output_type": "execute_result"
    },
    {
     "data": {
      "image/png": "[encoded data removed]",
      "text/plain": [
       "<Figure size 432x288 with 2 Axes>"
      ]
     },
     "metadata": {
      "needs_background": "light"
     },
     "output_type": "display_data"
    }
   ],
   "source": [
    "sns.heatmap(cm5,annot=True)\n",
    "plt.xlabel(\"Predicted\")\n",
    "plt.ylabel(\"Truth\")"
   ]
  },
  {
   "cell_type": "code",
   "execution_count": 49,
   "id": "42eef60b",
   "metadata": {},
   "outputs": [
    {
     "name": "stdout",
     "output_type": "stream",
     "text": [
      "              precision    recall  f1-score   support\n",
      "\n",
      "           0       1.00      1.00      1.00         4\n",
      "           1       0.83      1.00      0.91         5\n",
      "           2       1.00      0.67      0.80         3\n",
      "           3       1.00      1.00      1.00         4\n",
      "\n",
      "    accuracy                           0.94        16\n",
      "   macro avg       0.96      0.92      0.93        16\n",
      "weighted avg       0.95      0.94      0.93        16\n",
      "\n"
     ]
    }
   ],
   "source": [
    "print(classification_report(y_test,predict5))"
   ]
  },
  {
   "cell_type": "code",
   "execution_count": 50,
   "id": "8af2c529",
   "metadata": {},
   "outputs": [
    {
     "name": "stdout",
     "output_type": "stream",
     "text": [
      "Accuracy Score  :  0.9375\n",
      "Precision Score :  0.9583\n",
      "Recall Score    :  0.9167\n",
      "f1-Score        :  0.9273\n"
     ]
    }
   ],
   "source": [
    "accuracy_5 = round(accuracy_score(y_test,predict5),4)\n",
    "precision_5 = round(precision_score(y_test,predict5,average = 'macro'),4)\n",
    "recall_5 = round(recall_score(y_test,predict5, average = 'macro'),4)\n",
    "f1_5 = round(f1_score(y_test,predict5, average = 'macro'),4)\n",
    "\n",
    "print('Accuracy Score  : ', accuracy_5)\n",
    "print('Precision Score : ', precision_5)\n",
    "print('Recall Score    : ', recall_5)\n",
    "print('f1-Score        : ', f1_5)"
   ]
  },
  {
   "cell_type": "markdown",
   "id": "980e98ee",
   "metadata": {},
   "source": [
    "# 6. AdaBoost Classifier"
   ]
  },
  {
   "cell_type": "code",
   "execution_count": 51,
   "id": "a709b8dc",
   "metadata": {},
   "outputs": [],
   "source": [
    "ab = AdaBoostClassifier()\n",
    "ab.fit(X_train,y_train)\n",
    "predict6=ab.predict(X_test)"
   ]
  },
  {
   "cell_type": "code",
   "execution_count": 52,
   "id": "7d0cdd00",
   "metadata": {},
   "outputs": [
    {
     "data": {
      "text/plain": [
       "0.875"
      ]
     },
     "execution_count": 52,
     "metadata": {},
     "output_type": "execute_result"
    }
   ],
   "source": [
    "accuracy_6 = accuracy_score(y_test,predict6)\n",
    "accuracy_6"
   ]
  },
  {
   "cell_type": "code",
   "execution_count": 53,
   "id": "bf75e61b",
   "metadata": {},
   "outputs": [
    {
     "data": {
      "text/plain": [
       "array([[3, 1, 0, 0],\n",
       "       [0, 5, 0, 0],\n",
       "       [0, 1, 2, 0],\n",
       "       [0, 0, 0, 4]], dtype=int64)"
      ]
     },
     "execution_count": 53,
     "metadata": {},
     "output_type": "execute_result"
    }
   ],
   "source": [
    "cm6 = confusion_matrix(y_test,predict6)\n",
    "cm6"
   ]
  },
  {
   "cell_type": "code",
   "execution_count": 54,
   "id": "eed117d9",
   "metadata": {},
   "outputs": [
    {
     "data": {
      "text/plain": [
       "Text(33.0, 0.5, 'Truth')"
      ]
     },
     "execution_count": 54,
     "metadata": {},
     "output_type": "execute_result"
    },
    {
     "data": {
      "image/png": "[encoded data removed]",
      "text/plain": [
       "<Figure size 432x288 with 2 Axes>"
      ]
     },
     "metadata": {
      "needs_background": "light"
     },
     "output_type": "display_data"
    }
   ],
   "source": [
    "sns.heatmap(cm6,annot=True)\n",
    "plt.xlabel(\"Predicted\")\n",
    "plt.ylabel(\"Truth\")"
   ]
  },
  {
   "cell_type": "code",
   "execution_count": 55,
   "id": "2a45d63d",
   "metadata": {},
   "outputs": [
    {
     "name": "stdout",
     "output_type": "stream",
     "text": [
      "              precision    recall  f1-score   support\n",
      "\n",
      "           0       1.00      0.75      0.86         4\n",
      "           1       0.71      1.00      0.83         5\n",
      "           2       1.00      0.67      0.80         3\n",
      "           3       1.00      1.00      1.00         4\n",
      "\n",
      "    accuracy                           0.88        16\n",
      "   macro avg       0.93      0.85      0.87        16\n",
      "weighted avg       0.91      0.88      0.87        16\n",
      "\n"
     ]
    }
   ],
   "source": [
    "print(classification_report(y_test,predict6))"
   ]
  },
  {
   "cell_type": "code",
   "execution_count": 56,
   "id": "58f2a8f9",
   "metadata": {},
   "outputs": [
    {
     "name": "stdout",
     "output_type": "stream",
     "text": [
      "Accuracy Score  :  0.875\n",
      "Precision Score :  0.9286\n",
      "Recall Score    :  0.8542\n",
      "f1-Score        :  0.8726\n"
     ]
    }
   ],
   "source": [
    "accuracy_6 = round(accuracy_score(y_test,predict6),4)\n",
    "precision_6 = round(precision_score(y_test,predict6,average = 'macro'),4)\n",
    "recall_6 = round(recall_score(y_test,predict6, average = 'macro'),4)\n",
    "f1_6 = round(f1_score(y_test,predict6, average = 'macro'),4)\n",
    "\n",
    "print('Accuracy Score  : ', accuracy_6)\n",
    "print('Precision Score : ', precision_6)\n",
    "print('Recall Score    : ', recall_6)\n",
    "print('f1-Score        : ', f1_6)"
   ]
  },
  {
   "cell_type": "markdown",
   "id": "23387773",
   "metadata": {},
   "source": [
    "# 7. GradientBoosting Classifier"
   ]
  },
  {
   "cell_type": "code",
   "execution_count": 57,
   "id": "5738bd51",
   "metadata": {},
   "outputs": [],
   "source": [
    "gd = GradientBoostingClassifier()\n",
    "gd.fit(X_train,y_train)\n",
    "predict7 = gd.predict(X_test)"
   ]
  },
  {
   "cell_type": "code",
   "execution_count": 58,
   "id": "df52f429",
   "metadata": {},
   "outputs": [
    {
     "data": {
      "text/plain": [
       "0.9375"
      ]
     },
     "execution_count": 58,
     "metadata": {},
     "output_type": "execute_result"
    }
   ],
   "source": [
    "accuracy_7 = accuracy_score(y_test,predict7)\n",
    "accuracy_7"
   ]
  },
  {
   "cell_type": "code",
   "execution_count": 59,
   "id": "62216d12",
   "metadata": {},
   "outputs": [
    {
     "data": {
      "text/plain": [
       "array([[3, 1, 0, 0],\n",
       "       [0, 5, 0, 0],\n",
       "       [0, 0, 3, 0],\n",
       "       [0, 0, 0, 4]], dtype=int64)"
      ]
     },
     "execution_count": 59,
     "metadata": {},
     "output_type": "execute_result"
    }
   ],
   "source": [
    "cm7 = confusion_matrix(y_test,predict7)\n",
    "cm7"
   ]
  },
  {
   "cell_type": "code",
   "execution_count": 60,
   "id": "7523df16",
   "metadata": {},
   "outputs": [
    {
     "data": {
      "text/plain": [
       "Text(33.0, 0.5, 'Truth')"
      ]
     },
     "execution_count": 60,
     "metadata": {},
     "output_type": "execute_result"
    },
    {
     "data": {
      "image/png": "[encoded data removed]",
      "text/plain": [
       "<Figure size 432x288 with 2 Axes>"
      ]
     },
     "metadata": {
      "needs_background": "light"
     },
     "output_type": "display_data"
    }
   ],
   "source": [
    "sns.heatmap(cm7,annot=True)\n",
    "plt.xlabel(\"Predicted\")\n",
    "plt.ylabel(\"Truth\")"
   ]
  },
  {
   "cell_type": "code",
   "execution_count": 61,
   "id": "c17b4d16",
   "metadata": {},
   "outputs": [
    {
     "name": "stdout",
     "output_type": "stream",
     "text": [
      "              precision    recall  f1-score   support\n",
      "\n",
      "           0       1.00      0.75      0.86         4\n",
      "           1       0.83      1.00      0.91         5\n",
      "           2       1.00      1.00      1.00         3\n",
      "           3       1.00      1.00      1.00         4\n",
      "\n",
      "    accuracy                           0.94        16\n",
      "   macro avg       0.96      0.94      0.94        16\n",
      "weighted avg       0.95      0.94      0.94        16\n",
      "\n"
     ]
    }
   ],
   "source": [
    "print(classification_report(y_test,predict7))"
   ]
  },
  {
   "cell_type": "code",
   "execution_count": 62,
   "id": "09b5bd7c",
   "metadata": {},
   "outputs": [
    {
     "name": "stdout",
     "output_type": "stream",
     "text": [
      "Accuracy Score  :  0.9375\n",
      "Precision Score :  0.9583\n",
      "Recall Score    :  0.9375\n",
      "f1-Score        :  0.9416\n"
     ]
    }
   ],
   "source": [
    "accuracy_7 = round(accuracy_score(y_test,predict7),4)\n",
    "precision_7 = round(precision_score(y_test,predict7,average = 'macro'),4)\n",
    "recall_7 = round(recall_score(y_test,predict7, average = 'macro'),4)\n",
    "f1_7 = round(f1_score(y_test,predict7, average = 'macro'),4)\n",
    "\n",
    "print('Accuracy Score  : ', accuracy_7)\n",
    "print('Precision Score : ', precision_7)\n",
    "print('Recall Score    : ', recall_7)\n",
    "print('f1-Score        : ', f1_7)"
   ]
  },
  {
   "cell_type": "markdown",
   "id": "22536e9d",
   "metadata": {},
   "source": [
    "# 8. XGBoost Classifier"
   ]
  },
  {
   "cell_type": "code",
   "execution_count": 63,
   "id": "4ec098ee",
   "metadata": {},
   "outputs": [],
   "source": [
    "xg = XGBClassifier()\n",
    "xg.fit(X_train,y_train)\n",
    "predict8 = xg.predict(X_test)"
   ]
  },
  {
   "cell_type": "code",
   "execution_count": 64,
   "id": "3e52031b",
   "metadata": {},
   "outputs": [
    {
     "data": {
      "text/plain": [
       "0.9375"
      ]
     },
     "execution_count": 64,
     "metadata": {},
     "output_type": "execute_result"
    }
   ],
   "source": [
    "accuracy_8 = accuracy_score(y_test,predict8)\n",
    "accuracy_8"
   ]
  },
  {
   "cell_type": "code",
   "execution_count": 65,
   "id": "19b3b756",
   "metadata": {},
   "outputs": [
    {
     "data": {
      "text/plain": [
       "array([[3, 1, 0, 0],\n",
       "       [0, 5, 0, 0],\n",
       "       [0, 0, 3, 0],\n",
       "       [0, 0, 0, 4]], dtype=int64)"
      ]
     },
     "execution_count": 65,
     "metadata": {},
     "output_type": "execute_result"
    }
   ],
   "source": [
    "cm8 = confusion_matrix(y_test,predict8)\n",
    "cm8"
   ]
  },
  {
   "cell_type": "code",
   "execution_count": 66,
   "id": "51b49c64",
   "metadata": {},
   "outputs": [
    {
     "data": {
      "text/plain": [
       "Text(33.0, 0.5, 'Truth')"
      ]
     },
     "execution_count": 66,
     "metadata": {},
     "output_type": "execute_result"
    },
    {
     "data": {
      "image/png": "[encoded data removed]",
      "text/plain": [
       "<Figure size 432x288 with 2 Axes>"
      ]
     },
     "metadata": {
      "needs_background": "light"
     },
     "output_type": "display_data"
    }
   ],
   "source": [
    "sns.heatmap(cm8,annot=True)\n",
    "plt.xlabel(\"Predicted\")\n",
    "plt.ylabel(\"Truth\")"
   ]
  },
  {
   "cell_type": "code",
   "execution_count": 67,
   "id": "f258f763",
   "metadata": {},
   "outputs": [
    {
     "name": "stdout",
     "output_type": "stream",
     "text": [
      "              precision    recall  f1-score   support\n",
      "\n",
      "           0       1.00      0.75      0.86         4\n",
      "           1       0.83      1.00      0.91         5\n",
      "           2       1.00      1.00      1.00         3\n",
      "           3       1.00      1.00      1.00         4\n",
      "\n",
      "    accuracy                           0.94        16\n",
      "   macro avg       0.96      0.94      0.94        16\n",
      "weighted avg       0.95      0.94      0.94        16\n",
      "\n"
     ]
    }
   ],
   "source": [
    "print(classification_report(y_test,predict8))"
   ]
  },
  {
   "cell_type": "code",
   "execution_count": 68,
   "id": "c7b7d4ed",
   "metadata": {},
   "outputs": [
    {
     "name": "stdout",
     "output_type": "stream",
     "text": [
      "Accuracy Score  :  0.9375\n",
      "Precision Score :  0.9583\n",
      "Recall Score    :  0.9375\n",
      "f1-Score        :  0.9416\n"
     ]
    }
   ],
   "source": [
    "accuracy_8 = round(accuracy_score(y_test,predict8),4)\n",
    "precision_8 = round(precision_score(y_test,predict8,average = 'macro'),4)\n",
    "recall_8 = round(recall_score(y_test,predict8, average = 'macro'),4)\n",
    "f1_8 = round(f1_score(y_test,predict8, average = 'macro'),4)\n",
    "\n",
    "print('Accuracy Score  : ', accuracy_8)\n",
    "print('Precision Score : ', precision_8)\n",
    "print('Recall Score    : ', recall_8)\n",
    "print('f1-Score        : ', f1_8)"
   ]
  },
  {
   "cell_type": "code",
   "execution_count": 72,
   "id": "02bf679f",
   "metadata": {},
   "outputs": [
    {
     "data": {
      "text/html": [
       "<div>\n",
       "<style scoped>\n",
       "    .dataframe tbody tr th:only-of-type {\n",
       "        vertical-align: middle;\n",
       "    }\n",
       "\n",
       "    .dataframe tbody tr th {\n",
       "        vertical-align: top;\n",
       "    }\n",
       "\n",
       "    .dataframe thead th {\n",
       "        text-align: right;\n",
       "    }\n",
       "</style>\n",
       "<table border=\"1\" class=\"dataframe\">\n",
       "  <thead>\n",
       "    <tr style=\"text-align: right;\">\n",
       "      <th></th>\n",
       "      <th>Classifier</th>\n",
       "      <th>Accuracy</th>\n",
       "      <th>Precision Score</th>\n",
       "      <th>Recall Score</th>\n",
       "      <th>F1_Score</th>\n",
       "    </tr>\n",
       "  </thead>\n",
       "  <tbody>\n",
       "    <tr>\n",
       "      <th>0</th>\n",
       "      <td>Logistic Regression</td>\n",
       "      <td>0.9375</td>\n",
       "      <td>0.9583</td>\n",
       "      <td>0.9167</td>\n",
       "      <td>0.9273</td>\n",
       "    </tr>\n",
       "    <tr>\n",
       "      <th>1</th>\n",
       "      <td>SVM Classifier</td>\n",
       "      <td>0.8750</td>\n",
       "      <td>0.9286</td>\n",
       "      <td>0.8542</td>\n",
       "      <td>0.8726</td>\n",
       "    </tr>\n",
       "    <tr>\n",
       "      <th>2</th>\n",
       "      <td>Random Forest Classifier</td>\n",
       "      <td>1.0000</td>\n",
       "      <td>1.0000</td>\n",
       "      <td>1.0000</td>\n",
       "      <td>1.0000</td>\n",
       "    </tr>\n",
       "    <tr>\n",
       "      <th>3</th>\n",
       "      <td>Naive-Bayes Classifier</td>\n",
       "      <td>0.8750</td>\n",
       "      <td>0.9083</td>\n",
       "      <td>0.8542</td>\n",
       "      <td>0.8638</td>\n",
       "    </tr>\n",
       "    <tr>\n",
       "      <th>4</th>\n",
       "      <td>Decision Tree Classifier</td>\n",
       "      <td>0.9375</td>\n",
       "      <td>0.9583</td>\n",
       "      <td>0.9167</td>\n",
       "      <td>0.9273</td>\n",
       "    </tr>\n",
       "    <tr>\n",
       "      <th>5</th>\n",
       "      <td>AdaBoost Classifier</td>\n",
       "      <td>0.8750</td>\n",
       "      <td>0.9286</td>\n",
       "      <td>0.8542</td>\n",
       "      <td>0.8726</td>\n",
       "    </tr>\n",
       "    <tr>\n",
       "      <th>6</th>\n",
       "      <td>Gradient Boosting Classifier</td>\n",
       "      <td>0.9375</td>\n",
       "      <td>0.9583</td>\n",
       "      <td>0.9375</td>\n",
       "      <td>0.9416</td>\n",
       "    </tr>\n",
       "    <tr>\n",
       "      <th>7</th>\n",
       "      <td>Xtreme Gradient Boosting Classifier</td>\n",
       "      <td>0.9375</td>\n",
       "      <td>0.9583</td>\n",
       "      <td>0.9375</td>\n",
       "      <td>0.9416</td>\n",
       "    </tr>\n",
       "  </tbody>\n",
       "</table>\n",
       "</div>"
      ],
      "text/plain": [
       "                            Classifier  Accuracy  Precision Score  \\\n",
       "0                  Logistic Regression    0.9375           0.9583   \n",
       "1                       SVM Classifier    0.8750           0.9286   \n",
       "2             Random Forest Classifier    1.0000           1.0000   \n",
       "3               Naive-Bayes Classifier    0.8750           0.9083   \n",
       "4             Decision Tree Classifier    0.9375           0.9583   \n",
       "5                  AdaBoost Classifier    0.8750           0.9286   \n",
       "6         Gradient Boosting Classifier    0.9375           0.9583   \n",
       "7  Xtreme Gradient Boosting Classifier    0.9375           0.9583   \n",
       "\n",
       "   Recall Score  F1_Score  \n",
       "0        0.9167    0.9273  \n",
       "1        0.8542    0.8726  \n",
       "2        1.0000    1.0000  \n",
       "3        0.8542    0.8638  \n",
       "4        0.9167    0.9273  \n",
       "5        0.8542    0.8726  \n",
       "6        0.9375    0.9416  \n",
       "7        0.9375    0.9416  "
      ]
     },
     "execution_count": 72,
     "metadata": {},
     "output_type": "execute_result"
    }
   ],
   "source": [
    "table = {'Classifier' : ['Logistic Regression','SVM Classifier','Random Forest Classifier', 'Naive-Bayes Classifier','Decision Tree Classifier','AdaBoost Classifier', 'Gradient Boosting Classifier', 'Xtreme Gradient Boosting Classifier'], 'Accuracy' : [accuracy_1, accuracy_2, accuracy_3, accuracy_4, accuracy_5, accuracy_6, accuracy_7, accuracy_8], 'Precision Score' : [precision_1, precision_2, precision_3, precision_4, precision_5, precision_6, precision_7, precision_8], 'Recall Score' : [recall_1, recall_2, recall_3, recall_4, recall_5, recall_6, recall_7, recall_8], 'F1_Score' : [f1_1, f1_2, f1_3, f1_4, f1_5, f1_6, f1_7, f1_8]}\n",
    "table = pd.DataFrame(table)\n",
    "table.sort_values([\"Accuracy\"])\n",
    "table"
   ]
  },
  {
   "cell_type": "code",
   "execution_count": 73,
   "id": "26ca82fe",
   "metadata": {},
   "outputs": [
    {
     "data": {
      "image/png": "[encoded data removed]",
      "text/plain": [
       "<Figure size 1080x432 with 1 Axes>"
      ]
     },
     "metadata": {
      "needs_background": "light"
     },
     "output_type": "display_data"
    }
   ],
   "source": [
    "#Accuracy\n",
    "plt.figure(figsize=(15,6))\n",
    "ax= sns.barplot(x=table.Classifier, y=table.Accuracy, palette =sns.color_palette(\"Set2\") )\n",
    "ax.set_xticklabels(ax.get_xticklabels(),rotation=30)\n",
    "plt.xlabel('Classification Models')\n",
    "plt.ylabel('Accuracy')\n",
    "plt.title('Accuracy Scores of Classification Models')\n",
    "for i in ax.patches:\n",
    "    ax.text(i.get_x()+.19, i.get_height()-0.3, \\\n",
    "            str(round((i.get_height()), 4)), fontsize=15, color='b')\n",
    "plt.show()"
   ]
  },
  {
   "cell_type": "code",
   "execution_count": null,
   "id": "0bf7ecd1",
   "metadata": {},
   "outputs": [],
   "source": []
  }
 ],
 "metadata": {
  "kernelspec": {
   "display_name": "Python 3 (ipykernel)",
   "language": "python",
   "name": "python3"
  },
  "language_info": {
   "codemirror_mode": {
    "name": "ipython",
    "version": 3
   },
   "file_extension": ".py",
   "mimetype": "text/x-python",
   "name": "python",
   "nbconvert_exporter": "python",
   "pygments_lexer": "ipython3",
   "version": "3.9.12"
  }
 },
 "nbformat": 4,
 "nbformat_minor": 5
}
