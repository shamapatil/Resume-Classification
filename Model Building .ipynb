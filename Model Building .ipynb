{
 "cells": [
  {
   "cell_type": "code",
   "execution_count": 22,
   "id": "c182c890",
   "metadata": {},
   "outputs": [],
   "source": [
    "from sklearn.naive_bayes import MultinomialNB\n",
    "from sklearn.multiclass import OneVsRestClassifier\n",
    "from sklearn.model_selection import train_test_split,cross_val_score\n",
    "from sklearn.feature_extraction.text import TfidfVectorizer\n",
    "from scipy.sparse import hstack\n",
    "from sklearn.metrics import f1_score,precision_score,confusion_matrix,recall_score,accuracy_score\n",
    "from sklearn.ensemble import RandomForestClassifier\n",
    "from sklearn.tree import DecisionTreeClassifier\n",
    "from sklearn.svm import SVC\n",
    "from sklearn.linear_model import LogisticRegression\n",
    "from sklearn.ensemble import AdaBoostClassifier,GradientBoostingClassifier\n",
    "from xgboost import XGBClassifier\n",
    "from nltk.classify import NaiveBayesClassifier\n",
    "import plotly.express as px\n",
    "import plotly.figure_factory as ff\n",
    "from collections import Counter\n",
    "from sklearn.feature_extraction.text import CountVectorizer, TfidfVectorizer\n",
    "from sklearn.linear_model import LogisticRegression\n",
    "from sklearn.model_selection import train_test_split\n",
    "from sklearn.metrics import f1_score, confusion_matrix, accuracy_score, classification_report\n",
    "from sklearn.svm import SVC\n",
    "from sklearn.naive_bayes import GaussianNB\n",
    "from textblob import TextBlob\n",
    "from textblob.sentiments import NaiveBayesAnalyzer\n",
    "from textblob.np_extractors import ConllExtractor\n",
    "from sklearn.feature_extraction.text import CountVectorizer \n",
    "from sklearn.pipeline import make_pipeline\n",
    "from nltk.tokenize import RegexpTokenizer\n",
    "warnings.filterwarnings(\"ignore\", category=DeprecationWarning)"
   ]
  },
  {
   "cell_type": "code",
   "execution_count": 2,
   "id": "5e0ab166",
   "metadata": {},
   "outputs": [
    {
     "data": {
      "text/html": [
       "<div>\n",
       "<style scoped>\n",
       "    .dataframe tbody tr th:only-of-type {\n",
       "        vertical-align: middle;\n",
       "    }\n",
       "\n",
       "    .dataframe tbody tr th {\n",
       "        vertical-align: top;\n",
       "    }\n",
       "\n",
       "    .dataframe thead th {\n",
       "        text-align: right;\n",
       "    }\n",
       "</style>\n",
       "<table border=\"1\" class=\"dataframe\">\n",
       "  <thead>\n",
       "    <tr style=\"text-align: right;\">\n",
       "      <th></th>\n",
       "      <th>Category</th>\n",
       "      <th>Cleaned_Resumes</th>\n",
       "      <th>Encoded_Skill</th>\n",
       "    </tr>\n",
       "  </thead>\n",
       "  <tbody>\n",
       "    <tr>\n",
       "      <th>0</th>\n",
       "      <td>React JS Developer Resume</td>\n",
       "      <td>name ravali p curriculum vitae specialization ...</td>\n",
       "      <td>1</td>\n",
       "    </tr>\n",
       "    <tr>\n",
       "      <th>1</th>\n",
       "      <td>React JS Developer Resume</td>\n",
       "      <td>mareedu lokesh babu professional overview arou...</td>\n",
       "      <td>1</td>\n",
       "    </tr>\n",
       "    <tr>\n",
       "      <th>2</th>\n",
       "      <td>React JS Developer Resume</td>\n",
       "      <td>susovan bag seeking a challenging position in ...</td>\n",
       "      <td>1</td>\n",
       "    </tr>\n",
       "    <tr>\n",
       "      <th>3</th>\n",
       "      <td>React JS Developer Resume</td>\n",
       "      <td>haripriya battina experience as ui developer i...</td>\n",
       "      <td>1</td>\n",
       "    </tr>\n",
       "    <tr>\n",
       "      <th>4</th>\n",
       "      <td>React JS Developer Resume</td>\n",
       "      <td>name m prabakaran title ui developer professio...</td>\n",
       "      <td>1</td>\n",
       "    </tr>\n",
       "    <tr>\n",
       "      <th>...</th>\n",
       "      <td>...</td>\n",
       "      <td>...</td>\n",
       "      <td>...</td>\n",
       "    </tr>\n",
       "    <tr>\n",
       "      <th>74</th>\n",
       "      <td>Workday Resume</td>\n",
       "      <td>years of it experience as workday hcm technica...</td>\n",
       "      <td>3</td>\n",
       "    </tr>\n",
       "    <tr>\n",
       "      <th>75</th>\n",
       "      <td>Workday Resume</td>\n",
       "      <td>ramesh a workday hcm consultant professional s...</td>\n",
       "      <td>3</td>\n",
       "    </tr>\n",
       "    <tr>\n",
       "      <th>76</th>\n",
       "      <td>Workday Resume</td>\n",
       "      <td>name j sumanth royal professional summary have...</td>\n",
       "      <td>3</td>\n",
       "    </tr>\n",
       "    <tr>\n",
       "      <th>77</th>\n",
       "      <td>Workday Resume</td>\n",
       "      <td>vinay kumar v workday functional consultant ex...</td>\n",
       "      <td>3</td>\n",
       "    </tr>\n",
       "    <tr>\n",
       "      <th>78</th>\n",
       "      <td>Workday Resume</td>\n",
       "      <td>srikanth workday hcm consultant seeking suitab...</td>\n",
       "      <td>3</td>\n",
       "    </tr>\n",
       "  </tbody>\n",
       "</table>\n",
       "<p>79 rows × 3 columns</p>\n",
       "</div>"
      ],
      "text/plain": [
       "                     Category  \\\n",
       "0   React JS Developer Resume   \n",
       "1   React JS Developer Resume   \n",
       "2   React JS Developer Resume   \n",
       "3   React JS Developer Resume   \n",
       "4   React JS Developer Resume   \n",
       "..                        ...   \n",
       "74             Workday Resume   \n",
       "75             Workday Resume   \n",
       "76             Workday Resume   \n",
       "77             Workday Resume   \n",
       "78             Workday Resume   \n",
       "\n",
       "                                      Cleaned_Resumes  Encoded_Skill  \n",
       "0   name ravali p curriculum vitae specialization ...              1  \n",
       "1   mareedu lokesh babu professional overview arou...              1  \n",
       "2   susovan bag seeking a challenging position in ...              1  \n",
       "3   haripriya battina experience as ui developer i...              1  \n",
       "4   name m prabakaran title ui developer professio...              1  \n",
       "..                                                ...            ...  \n",
       "74  years of it experience as workday hcm technica...              3  \n",
       "75  ramesh a workday hcm consultant professional s...              3  \n",
       "76  name j sumanth royal professional summary have...              3  \n",
       "77  vinay kumar v workday functional consultant ex...              3  \n",
       "78  srikanth workday hcm consultant seeking suitab...              3  \n",
       "\n",
       "[79 rows x 3 columns]"
      ]
     },
     "execution_count": 2,
     "metadata": {},
     "output_type": "execute_result"
    }
   ],
   "source": [
    "data = pd.read_csv(\"C:\\\\Users\\\\shama\\\\Desktop\\\\cleaned_data.csv\")\n",
    "data"
   ]
  },
  {
   "cell_type": "markdown",
   "id": "c7958b32",
   "metadata": {},
   "source": [
    "# TF-IDF"
   ]
  },
  {
   "cell_type": "code",
   "execution_count": 3,
   "id": "75bed798",
   "metadata": {},
   "outputs": [],
   "source": [
    "from sklearn.feature_extraction.text import CountVectorizer, TfidfVectorizer"
   ]
  },
  {
   "cell_type": "code",
   "execution_count": 4,
   "id": "d8799467",
   "metadata": {},
   "outputs": [],
   "source": [
    "requiredText = data['Cleaned_Resumes'].values\n",
    "requiredTarget = data['Encoded_Skill'].values\n",
    "\n",
    "word_vectorizer = TfidfVectorizer(sublinear_tf=True,stop_words='english')\n",
    "word_vectorizer.fit(requiredText)\n",
    "WordFeatures = word_vectorizer.transform(requiredText)"
   ]
  },
  {
   "cell_type": "code",
   "execution_count": 6,
   "id": "6a3d5bf1",
   "metadata": {},
   "outputs": [
    {
     "name": "stdout",
     "output_type": "stream",
     "text": [
      "X Train shape: (63, 4736)\n",
      "Y Train shape: (63,)\n",
      "x Test shape: (16, 4736)\n",
      "y Test shape: (16,)\n"
     ]
    }
   ],
   "source": [
    "X_train,X_test,y_train,y_test = train_test_split(WordFeatures, requiredTarget, random_state=0, test_size=0.2)\n",
    "print(\"X Train shape:\",x_train.shape)\n",
    "print(\"Y Train shape:\",y_train.shape)\n",
    "print(\"x Test shape:\",x_test.shape)\n",
    "print(\"y Test shape:\",y_test.shape)"
   ]
  },
  {
   "cell_type": "markdown",
   "id": "f080b5f7",
   "metadata": {},
   "source": [
    "# 1. LOGISTIC REGRESSION"
   ]
  },
  {
   "cell_type": "code",
   "execution_count": 7,
   "id": "93b516d5",
   "metadata": {},
   "outputs": [
    {
     "data": {
      "text/plain": [
       "LogisticRegression()"
      ]
     },
     "execution_count": 7,
     "metadata": {},
     "output_type": "execute_result"
    }
   ],
   "source": [
    "from sklearn.metrics import confusion_matrix,roc_auc_score,accuracy_score,precision_score,recall_score,f1_score,classification_report\n",
    "\n",
    "lg = LogisticRegression()\n",
    "lg.fit(X_train,y_train)"
   ]
  },
  {
   "cell_type": "code",
   "execution_count": 8,
   "id": "54f540ad",
   "metadata": {},
   "outputs": [],
   "source": [
    "predict1 = lg.predict(X_test)"
   ]
  },
  {
   "cell_type": "code",
   "execution_count": 9,
   "id": "7a1c117f",
   "metadata": {},
   "outputs": [
    {
     "data": {
      "text/plain": [
       "0.875"
      ]
     },
     "execution_count": 9,
     "metadata": {},
     "output_type": "execute_result"
    }
   ],
   "source": [
    "accuracy_1 = accuracy_score(y_test,predict1)\n",
    "accuracy_1"
   ]
  },
  {
   "cell_type": "code",
   "execution_count": 10,
   "id": "289a1df1",
   "metadata": {},
   "outputs": [
    {
     "data": {
      "text/plain": [
       "array([[4, 0, 0, 0],\n",
       "       [0, 1, 0, 0],\n",
       "       [0, 2, 3, 0],\n",
       "       [0, 0, 0, 6]], dtype=int64)"
      ]
     },
     "execution_count": 10,
     "metadata": {},
     "output_type": "execute_result"
    }
   ],
   "source": [
    "cm = confusion_matrix(y_test,predict1)\n",
    "cm"
   ]
  },
  {
   "cell_type": "code",
   "execution_count": 63,
   "id": "438edd2b",
   "metadata": {},
   "outputs": [
    {
     "data": {
      "text/plain": [
       "Text(33.0, 0.5, 'Truth')"
      ]
     },
     "execution_count": 63,
     "metadata": {},
     "output_type": "execute_result"
    },
    {
     "data": {
      "image/png": "[encoded data removed]",
      "text/plain": [
       "<Figure size 432x288 with 2 Axes>"
      ]
     },
     "metadata": {
      "needs_background": "light"
     },
     "output_type": "display_data"
    }
   ],
   "source": [
    "sns.heatmap(cm,annot=True)\n",
    "plt.xlabel(\"Predicted\")\n",
    "plt.ylabel(\"Truth\")"
   ]
  },
  {
   "cell_type": "code",
   "execution_count": 11,
   "id": "3948247d",
   "metadata": {},
   "outputs": [
    {
     "name": "stdout",
     "output_type": "stream",
     "text": [
      "              precision    recall  f1-score   support\n",
      "\n",
      "           0       1.00      1.00      1.00         4\n",
      "           1       0.33      1.00      0.50         1\n",
      "           2       1.00      0.60      0.75         5\n",
      "           3       1.00      1.00      1.00         6\n",
      "\n",
      "    accuracy                           0.88        16\n",
      "   macro avg       0.83      0.90      0.81        16\n",
      "weighted avg       0.96      0.88      0.89        16\n",
      "\n"
     ]
    }
   ],
   "source": [
    "print(classification_report(y_test,predict1))"
   ]
  },
  {
   "cell_type": "code",
   "execution_count": 12,
   "id": "fe445ff4",
   "metadata": {},
   "outputs": [],
   "source": [
    "accuracy_1 = round(accuracy_score(y_test,predict1),4)\n",
    "precision_1 = round(precision_score(y_test,predict1,average = 'macro'),4)\n",
    "recall_1 = round(recall_score(y_test,predict1, average = 'macro'),4)\n",
    "f1_1 = round(f1_score(y_test,predict1, average = 'macro'),4)"
   ]
  },
  {
   "cell_type": "code",
   "execution_count": 13,
   "id": "e4315b5b",
   "metadata": {
    "scrolled": true
   },
   "outputs": [
    {
     "name": "stdout",
     "output_type": "stream",
     "text": [
      "Accuracy Score  :  0.875\n",
      "Precision Score :  0.8333\n",
      "Recall Score    :  0.9\n",
      "f1-Score        :  0.8125\n"
     ]
    }
   ],
   "source": [
    "print('Accuracy Score  : ', accuracy_1)\n",
    "print('Precision Score : ', precision_1)\n",
    "print('Recall Score    : ', recall_1)\n",
    "print('f1-Score        : ', f1_1)"
   ]
  },
  {
   "cell_type": "markdown",
   "id": "7c5feff5",
   "metadata": {},
   "source": [
    "# 2. Decision Tree Classifier"
   ]
  },
  {
   "cell_type": "code",
   "execution_count": 15,
   "id": "d57d3d74",
   "metadata": {},
   "outputs": [],
   "source": [
    "dt = DecisionTreeClassifier(max_depth=3)\n",
    "dt.fit(X_train,y_train)\n",
    "predict2=dt.predict(X_test)"
   ]
  },
  {
   "cell_type": "code",
   "execution_count": 16,
   "id": "51e0300f",
   "metadata": {},
   "outputs": [
    {
     "data": {
      "text/plain": [
       "0.875"
      ]
     },
     "execution_count": 16,
     "metadata": {},
     "output_type": "execute_result"
    }
   ],
   "source": [
    "accuracy_2 = accuracy_score(y_test,predict5)\n",
    "accuracy_2"
   ]
  },
  {
   "cell_type": "code",
   "execution_count": 17,
   "id": "653d3d2c",
   "metadata": {},
   "outputs": [
    {
     "data": {
      "text/plain": [
       "array([[3, 1, 0, 0],\n",
       "       [0, 1, 0, 0],\n",
       "       [0, 2, 3, 0],\n",
       "       [1, 0, 0, 5]], dtype=int64)"
      ]
     },
     "execution_count": 17,
     "metadata": {},
     "output_type": "execute_result"
    }
   ],
   "source": [
    "cm2=confusion_matrix(y_test,predict2)\n",
    "cm2"
   ]
  },
  {
   "cell_type": "code",
   "execution_count": 64,
   "id": "56bdeba7",
   "metadata": {},
   "outputs": [
    {
     "data": {
      "text/plain": [
       "Text(33.0, 0.5, 'Truth')"
      ]
     },
     "execution_count": 64,
     "metadata": {},
     "output_type": "execute_result"
    },
    {
     "data": {
      "image/png": "[encoded data removed]",
      "text/plain": [
       "<Figure size 432x288 with 2 Axes>"
      ]
     },
     "metadata": {
      "needs_background": "light"
     },
     "output_type": "display_data"
    }
   ],
   "source": [
    "sns.heatmap(cm2,annot=True)\n",
    "plt.xlabel(\"Predicted\")\n",
    "plt.ylabel(\"Truth\")"
   ]
  },
  {
   "cell_type": "code",
   "execution_count": 18,
   "id": "86fad543",
   "metadata": {},
   "outputs": [
    {
     "name": "stdout",
     "output_type": "stream",
     "text": [
      "              precision    recall  f1-score   support\n",
      "\n",
      "           0       0.75      0.75      0.75         4\n",
      "           1       0.25      1.00      0.40         1\n",
      "           2       1.00      0.60      0.75         5\n",
      "           3       1.00      0.83      0.91         6\n",
      "\n",
      "    accuracy                           0.75        16\n",
      "   macro avg       0.75      0.80      0.70        16\n",
      "weighted avg       0.89      0.75      0.79        16\n",
      "\n"
     ]
    }
   ],
   "source": [
    "print(classification_report(y_test,predict2))"
   ]
  },
  {
   "cell_type": "code",
   "execution_count": 19,
   "id": "b8714f70",
   "metadata": {},
   "outputs": [
    {
     "name": "stdout",
     "output_type": "stream",
     "text": [
      "Accuracy Score  :  0.75\n",
      "Precision Score :  0.75\n",
      "Recall Score    :  0.7958\n",
      "f1-Score        :  0.7023\n"
     ]
    }
   ],
   "source": [
    "accuracy_2 = round(accuracy_score(y_test,predict2),4)\n",
    "precision_2 = round(precision_score(y_test,predict2,average = 'macro'),4)\n",
    "recall_2 = round(recall_score(y_test,predict2, average = 'macro'),4)\n",
    "f1_2 = round(f1_score(y_test,predict2, average = 'macro'),4)\n",
    "\n",
    "print('Accuracy Score  : ', accuracy_2)\n",
    "print('Precision Score : ', precision_2)\n",
    "print('Recall Score    : ', recall_2)\n",
    "print('f1-Score        : ', f1_2)"
   ]
  },
  {
   "cell_type": "markdown",
   "id": "963516cc",
   "metadata": {},
   "source": [
    "# 3. Random Forest Classifier"
   ]
  },
  {
   "cell_type": "code",
   "execution_count": 23,
   "id": "3eaffb68",
   "metadata": {},
   "outputs": [],
   "source": [
    "rf = RandomForestClassifier()\n",
    "rf.fit(X_train,y_train)\n",
    "predict3=rf.predict(X_test)"
   ]
  },
  {
   "cell_type": "code",
   "execution_count": 24,
   "id": "052198d4",
   "metadata": {},
   "outputs": [
    {
     "data": {
      "text/plain": [
       "0.9375"
      ]
     },
     "execution_count": 24,
     "metadata": {},
     "output_type": "execute_result"
    }
   ],
   "source": [
    "accuracy_3 = accuracy_score(y_test,predict3)\n",
    "accuracy_3"
   ]
  },
  {
   "cell_type": "code",
   "execution_count": 25,
   "id": "e938c0b7",
   "metadata": {},
   "outputs": [
    {
     "data": {
      "text/plain": [
       "array([[4, 0, 0, 0],\n",
       "       [0, 1, 0, 0],\n",
       "       [0, 1, 4, 0],\n",
       "       [0, 0, 0, 6]], dtype=int64)"
      ]
     },
     "execution_count": 25,
     "metadata": {},
     "output_type": "execute_result"
    }
   ],
   "source": [
    "cm3 = confusion_matrix(y_test,predict3)\n",
    "cm3"
   ]
  },
  {
   "cell_type": "code",
   "execution_count": 65,
   "id": "9c26d5d1",
   "metadata": {},
   "outputs": [
    {
     "data": {
      "text/plain": [
       "Text(33.0, 0.5, 'Truth')"
      ]
     },
     "execution_count": 65,
     "metadata": {},
     "output_type": "execute_result"
    },
    {
     "data": {
      "image/png": "[encoded data removed]",
      "text/plain": [
       "<Figure size 432x288 with 2 Axes>"
      ]
     },
     "metadata": {
      "needs_background": "light"
     },
     "output_type": "display_data"
    }
   ],
   "source": [
    "sns.heatmap(cm3,annot=True)\n",
    "plt.xlabel(\"Predicted\")\n",
    "plt.ylabel(\"Truth\")"
   ]
  },
  {
   "cell_type": "code",
   "execution_count": 26,
   "id": "9f29f33a",
   "metadata": {},
   "outputs": [
    {
     "name": "stdout",
     "output_type": "stream",
     "text": [
      "              precision    recall  f1-score   support\n",
      "\n",
      "           0       1.00      1.00      1.00         4\n",
      "           1       0.50      1.00      0.67         1\n",
      "           2       1.00      0.80      0.89         5\n",
      "           3       1.00      1.00      1.00         6\n",
      "\n",
      "    accuracy                           0.94        16\n",
      "   macro avg       0.88      0.95      0.89        16\n",
      "weighted avg       0.97      0.94      0.94        16\n",
      "\n"
     ]
    }
   ],
   "source": [
    "print(classification_report(y_test,predict3))"
   ]
  },
  {
   "cell_type": "code",
   "execution_count": 27,
   "id": "938b56e7",
   "metadata": {},
   "outputs": [
    {
     "name": "stdout",
     "output_type": "stream",
     "text": [
      "Accuracy Score  :  0.9375\n",
      "Precision Score :  0.875\n",
      "Recall Score    :  0.95\n",
      "f1-Score        :  0.8889\n"
     ]
    }
   ],
   "source": [
    "accuracy_3 = round(accuracy_score(y_test,predict3),4)\n",
    "precision_3 = round(precision_score(y_test,predict3,average = 'macro'),4)\n",
    "recall_3 = round(recall_score(y_test,predict3, average = 'macro'),4)\n",
    "f1_3 = round(f1_score(y_test,predict3, average = 'macro'),4)\n",
    "\n",
    "print('Accuracy Score  : ', accuracy_3)\n",
    "print('Precision Score : ', precision_3)\n",
    "print('Recall Score    : ', recall_3)\n",
    "print('f1-Score        : ', f1_3)"
   ]
  },
  {
   "cell_type": "markdown",
   "id": "23e74918",
   "metadata": {},
   "source": [
    "# 4. Naive-Bayes Classifier"
   ]
  },
  {
   "cell_type": "code",
   "execution_count": 28,
   "id": "2011ef37",
   "metadata": {},
   "outputs": [],
   "source": [
    "nb=MultinomialNB()\n",
    "nb.fit(X_train,y_train)\n",
    "predict4=nb.predict(X_test)"
   ]
  },
  {
   "cell_type": "code",
   "execution_count": 29,
   "id": "22a2c973",
   "metadata": {},
   "outputs": [
    {
     "data": {
      "text/plain": [
       "0.75"
      ]
     },
     "execution_count": 29,
     "metadata": {},
     "output_type": "execute_result"
    }
   ],
   "source": [
    "accuracy_4 = accuracy_score(y_test,predict4)\n",
    "accuracy_4"
   ]
  },
  {
   "cell_type": "code",
   "execution_count": 30,
   "id": "d9f01abf",
   "metadata": {},
   "outputs": [
    {
     "data": {
      "text/plain": [
       "array([[4, 0, 0, 0],\n",
       "       [0, 1, 0, 0],\n",
       "       [0, 4, 1, 0],\n",
       "       [0, 0, 0, 6]], dtype=int64)"
      ]
     },
     "execution_count": 30,
     "metadata": {},
     "output_type": "execute_result"
    }
   ],
   "source": [
    "cm4=confusion_matrix(y_test,predict4)\n",
    "cm4"
   ]
  },
  {
   "cell_type": "code",
   "execution_count": 66,
   "id": "288c343e",
   "metadata": {},
   "outputs": [
    {
     "data": {
      "text/plain": [
       "Text(33.0, 0.5, 'Truth')"
      ]
     },
     "execution_count": 66,
     "metadata": {},
     "output_type": "execute_result"
    },
    {
     "data": {
      "image/png": "[encoded data removed]",
      "text/plain": [
       "<Figure size 432x288 with 2 Axes>"
      ]
     },
     "metadata": {
      "needs_background": "light"
     },
     "output_type": "display_data"
    }
   ],
   "source": [
    "sns.heatmap(cm4,annot=True)\n",
    "plt.xlabel(\"Predicted\")\n",
    "plt.ylabel(\"Truth\")"
   ]
  },
  {
   "cell_type": "code",
   "execution_count": 31,
   "id": "c8072aa2",
   "metadata": {},
   "outputs": [
    {
     "name": "stdout",
     "output_type": "stream",
     "text": [
      "              precision    recall  f1-score   support\n",
      "\n",
      "           0       1.00      1.00      1.00         4\n",
      "           1       0.20      1.00      0.33         1\n",
      "           2       1.00      0.20      0.33         5\n",
      "           3       1.00      1.00      1.00         6\n",
      "\n",
      "    accuracy                           0.75        16\n",
      "   macro avg       0.80      0.80      0.67        16\n",
      "weighted avg       0.95      0.75      0.75        16\n",
      "\n"
     ]
    }
   ],
   "source": [
    "print(classification_report(y_test,predict4))"
   ]
  },
  {
   "cell_type": "code",
   "execution_count": 32,
   "id": "38ae58d8",
   "metadata": {},
   "outputs": [
    {
     "name": "stdout",
     "output_type": "stream",
     "text": [
      "Accuracy Score  :  0.75\n",
      "Precision Score :  0.8\n",
      "Recall Score    :  0.8\n",
      "f1-Score        :  0.6667\n"
     ]
    }
   ],
   "source": [
    "accuracy_4 = round(accuracy_score(y_test,predict4),4)\n",
    "precision_4 = round(precision_score(y_test,predict4,average = 'macro'),4)\n",
    "recall_4 = round(recall_score(y_test,predict4, average = 'macro'),4)\n",
    "f1_4 = round(f1_score(y_test,predict4, average = 'macro'),4)\n",
    "\n",
    "print('Accuracy Score  : ', accuracy_4)\n",
    "print('Precision Score : ', precision_4)\n",
    "print('Recall Score    : ', recall_4)\n",
    "print('f1-Score        : ', f1_4)"
   ]
  },
  {
   "cell_type": "markdown",
   "id": "f92af7bc",
   "metadata": {},
   "source": [
    "# 5. Support Vector Machine Classifier(SVC)"
   ]
  },
  {
   "cell_type": "code",
   "execution_count": 33,
   "id": "f43d9d7a",
   "metadata": {},
   "outputs": [],
   "source": [
    "sv = SVC()\n",
    "sv.fit(X_train,y_train)\n",
    "predict5 = sv.predict(X_test)"
   ]
  },
  {
   "cell_type": "code",
   "execution_count": 35,
   "id": "68efba9b",
   "metadata": {},
   "outputs": [
    {
     "data": {
      "text/plain": [
       "0.75"
      ]
     },
     "execution_count": 35,
     "metadata": {},
     "output_type": "execute_result"
    }
   ],
   "source": [
    "accuracy_5 = accuracy_score(y_test,predict5)\n",
    "accuracy_5"
   ]
  },
  {
   "cell_type": "code",
   "execution_count": 36,
   "id": "ee30a784",
   "metadata": {},
   "outputs": [
    {
     "data": {
      "text/plain": [
       "array([[3, 1, 0, 0],\n",
       "       [0, 1, 0, 0],\n",
       "       [0, 3, 2, 0],\n",
       "       [0, 0, 0, 6]], dtype=int64)"
      ]
     },
     "execution_count": 36,
     "metadata": {},
     "output_type": "execute_result"
    }
   ],
   "source": [
    "cm5 = confusion_matrix(y_test,predict5)\n",
    "cm5"
   ]
  },
  {
   "cell_type": "code",
   "execution_count": 67,
   "id": "4e027e7c",
   "metadata": {},
   "outputs": [
    {
     "data": {
      "text/plain": [
       "Text(33.0, 0.5, 'Truth')"
      ]
     },
     "execution_count": 67,
     "metadata": {},
     "output_type": "execute_result"
    },
    {
     "data": {
      "image/png": "[encoded data removed]",
      "text/plain": [
       "<Figure size 432x288 with 2 Axes>"
      ]
     },
     "metadata": {
      "needs_background": "light"
     },
     "output_type": "display_data"
    }
   ],
   "source": [
    "sns.heatmap(cm5,annot=True)\n",
    "plt.xlabel(\"Predicted\")\n",
    "plt.ylabel(\"Truth\")"
   ]
  },
  {
   "cell_type": "code",
   "execution_count": 37,
   "id": "494bd137",
   "metadata": {},
   "outputs": [
    {
     "name": "stdout",
     "output_type": "stream",
     "text": [
      "              precision    recall  f1-score   support\n",
      "\n",
      "           0       1.00      0.75      0.86         4\n",
      "           1       0.20      1.00      0.33         1\n",
      "           2       1.00      0.40      0.57         5\n",
      "           3       1.00      1.00      1.00         6\n",
      "\n",
      "    accuracy                           0.75        16\n",
      "   macro avg       0.80      0.79      0.69        16\n",
      "weighted avg       0.95      0.75      0.79        16\n",
      "\n"
     ]
    }
   ],
   "source": [
    "print(classification_report(y_test,predict5))"
   ]
  },
  {
   "cell_type": "code",
   "execution_count": 38,
   "id": "2c8fc4a5",
   "metadata": {},
   "outputs": [],
   "source": [
    "accuracy_5 = round(accuracy_score(y_test,predict5),4)\n",
    "precision_5 = round(precision_score(y_test,predict5,average = 'macro'),4)\n",
    "recall_5 = round(recall_score(y_test,predict5, average = 'macro'),4)\n",
    "f1_5 = round(f1_score(y_test,predict5, average = 'macro'),4)"
   ]
  },
  {
   "cell_type": "code",
   "execution_count": 39,
   "id": "6e2fcec0",
   "metadata": {},
   "outputs": [
    {
     "name": "stdout",
     "output_type": "stream",
     "text": [
      "Accuracy Score  :  0.75\n",
      "Precision Score :  0.8\n",
      "Recall Score    :  0.7875\n",
      "f1-Score        :  0.6905\n"
     ]
    }
   ],
   "source": [
    "print('Accuracy Score  : ', accuracy_5)\n",
    "print('Precision Score : ', precision_5)\n",
    "print('Recall Score    : ', recall_5)\n",
    "print('f1-Score        : ', f1_5)"
   ]
  },
  {
   "cell_type": "markdown",
   "id": "fda876ce",
   "metadata": {},
   "source": [
    "# 6. AdaBoost Classifier"
   ]
  },
  {
   "cell_type": "code",
   "execution_count": 40,
   "id": "9b425c29",
   "metadata": {},
   "outputs": [],
   "source": [
    "ab = AdaBoostClassifier()\n",
    "ab.fit(X_train,y_train)\n",
    "predict6=ab.predict(X_test)"
   ]
  },
  {
   "cell_type": "code",
   "execution_count": 41,
   "id": "eebacd59",
   "metadata": {},
   "outputs": [
    {
     "data": {
      "text/plain": [
       "0.75"
      ]
     },
     "execution_count": 41,
     "metadata": {},
     "output_type": "execute_result"
    }
   ],
   "source": [
    "accuracy_6 = accuracy_score(y_test,predict6)\n",
    "accuracy_6"
   ]
  },
  {
   "cell_type": "code",
   "execution_count": 42,
   "id": "928bf518",
   "metadata": {},
   "outputs": [
    {
     "data": {
      "text/plain": [
       "array([[3, 1, 0, 0],\n",
       "       [0, 1, 0, 0],\n",
       "       [0, 2, 3, 0],\n",
       "       [1, 0, 0, 5]], dtype=int64)"
      ]
     },
     "execution_count": 42,
     "metadata": {},
     "output_type": "execute_result"
    }
   ],
   "source": [
    "cm6 = confusion_matrix(y_test,predict6)\n",
    "cm6"
   ]
  },
  {
   "cell_type": "code",
   "execution_count": 68,
   "id": "5bce7d99",
   "metadata": {},
   "outputs": [
    {
     "data": {
      "text/plain": [
       "Text(33.0, 0.5, 'Truth')"
      ]
     },
     "execution_count": 68,
     "metadata": {},
     "output_type": "execute_result"
    },
    {
     "data": {
      "image/png": "[encoded data removed]",
      "text/plain": [
       "<Figure size 432x288 with 2 Axes>"
      ]
     },
     "metadata": {
      "needs_background": "light"
     },
     "output_type": "display_data"
    }
   ],
   "source": [
    "sns.heatmap(cm6,annot=True)\n",
    "plt.xlabel(\"Predicted\")\n",
    "plt.ylabel(\"Truth\")"
   ]
  },
  {
   "cell_type": "code",
   "execution_count": 43,
   "id": "f0708414",
   "metadata": {},
   "outputs": [
    {
     "name": "stdout",
     "output_type": "stream",
     "text": [
      "              precision    recall  f1-score   support\n",
      "\n",
      "           0       0.75      0.75      0.75         4\n",
      "           1       0.25      1.00      0.40         1\n",
      "           2       1.00      0.60      0.75         5\n",
      "           3       1.00      0.83      0.91         6\n",
      "\n",
      "    accuracy                           0.75        16\n",
      "   macro avg       0.75      0.80      0.70        16\n",
      "weighted avg       0.89      0.75      0.79        16\n",
      "\n"
     ]
    }
   ],
   "source": [
    "print(classification_report(y_test,predict6))"
   ]
  },
  {
   "cell_type": "code",
   "execution_count": 44,
   "id": "71d7b636",
   "metadata": {},
   "outputs": [
    {
     "name": "stdout",
     "output_type": "stream",
     "text": [
      "Accuracy Score  :  0.75\n",
      "Precision Score :  0.75\n",
      "Recall Score    :  0.7958\n",
      "f1-Score        :  0.7023\n"
     ]
    }
   ],
   "source": [
    "accuracy_6 = round(accuracy_score(y_test,predict6),4)\n",
    "precision_6 = round(precision_score(y_test,predict6,average = 'macro'),4)\n",
    "recall_6 = round(recall_score(y_test,predict6, average = 'macro'),4)\n",
    "f1_6 = round(f1_score(y_test,predict6, average = 'macro'),4)\n",
    "\n",
    "print('Accuracy Score  : ', accuracy_6)\n",
    "print('Precision Score : ', precision_6)\n",
    "print('Recall Score    : ', recall_6)\n",
    "print('f1-Score        : ', f1_6)"
   ]
  },
  {
   "cell_type": "markdown",
   "id": "d0cdfcd2",
   "metadata": {},
   "source": [
    "# 7. GradientBoosting Classifier"
   ]
  },
  {
   "cell_type": "code",
   "execution_count": 45,
   "id": "dbfe87b4",
   "metadata": {},
   "outputs": [],
   "source": [
    "gd = GradientBoostingClassifier()\n",
    "gd.fit(X_train,y_train)\n",
    "predict7 = gd.predict(X_test)"
   ]
  },
  {
   "cell_type": "code",
   "execution_count": 46,
   "id": "96af305c",
   "metadata": {},
   "outputs": [
    {
     "data": {
      "text/plain": [
       "0.875"
      ]
     },
     "execution_count": 46,
     "metadata": {},
     "output_type": "execute_result"
    }
   ],
   "source": [
    "accuracy_7 = accuracy_score(y_test,predict7)\n",
    "accuracy_7"
   ]
  },
  {
   "cell_type": "code",
   "execution_count": 47,
   "id": "ebab459c",
   "metadata": {},
   "outputs": [
    {
     "data": {
      "text/plain": [
       "array([[3, 1, 0, 0],\n",
       "       [0, 1, 0, 0],\n",
       "       [0, 0, 5, 0],\n",
       "       [1, 0, 0, 5]], dtype=int64)"
      ]
     },
     "execution_count": 47,
     "metadata": {},
     "output_type": "execute_result"
    }
   ],
   "source": [
    "cm7 = confusion_matrix(y_test,predict7)\n",
    "cm7"
   ]
  },
  {
   "cell_type": "code",
   "execution_count": 69,
   "id": "626ca9b9",
   "metadata": {},
   "outputs": [
    {
     "data": {
      "text/plain": [
       "Text(33.0, 0.5, 'Truth')"
      ]
     },
     "execution_count": 69,
     "metadata": {},
     "output_type": "execute_result"
    },
    {
     "data": {
      "image/png": "[encoded data removed]",
      "text/plain": [
       "<Figure size 432x288 with 2 Axes>"
      ]
     },
     "metadata": {
      "needs_background": "light"
     },
     "output_type": "display_data"
    }
   ],
   "source": [
    "sns.heatmap(cm7,annot=True)\n",
    "plt.xlabel(\"Predicted\")\n",
    "plt.ylabel(\"Truth\")"
   ]
  },
  {
   "cell_type": "code",
   "execution_count": 48,
   "id": "6e5feb30",
   "metadata": {},
   "outputs": [
    {
     "name": "stdout",
     "output_type": "stream",
     "text": [
      "              precision    recall  f1-score   support\n",
      "\n",
      "           0       0.75      0.75      0.75         4\n",
      "           1       0.50      1.00      0.67         1\n",
      "           2       1.00      1.00      1.00         5\n",
      "           3       1.00      0.83      0.91         6\n",
      "\n",
      "    accuracy                           0.88        16\n",
      "   macro avg       0.81      0.90      0.83        16\n",
      "weighted avg       0.91      0.88      0.88        16\n",
      "\n"
     ]
    }
   ],
   "source": [
    "print(classification_report(y_test,predict7))"
   ]
  },
  {
   "cell_type": "code",
   "execution_count": 49,
   "id": "c8d8db20",
   "metadata": {},
   "outputs": [
    {
     "name": "stdout",
     "output_type": "stream",
     "text": [
      "Accuracy Score  :  0.875\n",
      "Precision Score :  0.8125\n",
      "Recall Score    :  0.8958\n",
      "f1-Score        :  0.8314\n"
     ]
    }
   ],
   "source": [
    "accuracy_7 = round(accuracy_score(y_test,predict7),4)\n",
    "precision_7 = round(precision_score(y_test,predict7,average = 'macro'),4)\n",
    "recall_7 = round(recall_score(y_test,predict7, average = 'macro'),4)\n",
    "f1_7 = round(f1_score(y_test,predict7, average = 'macro'),4)\n",
    "\n",
    "print('Accuracy Score  : ', accuracy_7)\n",
    "print('Precision Score : ', precision_7)\n",
    "print('Recall Score    : ', recall_7)\n",
    "print('f1-Score        : ', f1_7)"
   ]
  },
  {
   "cell_type": "markdown",
   "id": "c64d06ed",
   "metadata": {},
   "source": [
    "# 8. XGBoost Classifier"
   ]
  },
  {
   "cell_type": "code",
   "execution_count": 50,
   "id": "53f029de",
   "metadata": {},
   "outputs": [],
   "source": [
    "xg = XGBClassifier()\n",
    "xg.fit(X_train,y_train)\n",
    "predict8 = xg.predict(X_test)"
   ]
  },
  {
   "cell_type": "code",
   "execution_count": 51,
   "id": "20f39d6c",
   "metadata": {},
   "outputs": [
    {
     "data": {
      "text/plain": [
       "0.75"
      ]
     },
     "execution_count": 51,
     "metadata": {},
     "output_type": "execute_result"
    }
   ],
   "source": [
    "accuracy_8 = accuracy_score(y_test,predict8)\n",
    "accuracy_8"
   ]
  },
  {
   "cell_type": "code",
   "execution_count": 52,
   "id": "fbc8f00a",
   "metadata": {},
   "outputs": [
    {
     "data": {
      "text/plain": [
       "array([[3, 1, 0, 0],\n",
       "       [0, 1, 0, 0],\n",
       "       [0, 2, 3, 0],\n",
       "       [1, 0, 0, 5]], dtype=int64)"
      ]
     },
     "execution_count": 52,
     "metadata": {},
     "output_type": "execute_result"
    }
   ],
   "source": [
    "cm8 = confusion_matrix(y_test,predict8)\n",
    "cm8"
   ]
  },
  {
   "cell_type": "code",
   "execution_count": 70,
   "id": "eddefc54",
   "metadata": {},
   "outputs": [
    {
     "data": {
      "text/plain": [
       "Text(33.0, 0.5, 'Truth')"
      ]
     },
     "execution_count": 70,
     "metadata": {},
     "output_type": "execute_result"
    },
    {
     "data": {
      "image/png": "[encoded data removed]",
      "text/plain": [
       "<Figure size 432x288 with 2 Axes>"
      ]
     },
     "metadata": {
      "needs_background": "light"
     },
     "output_type": "display_data"
    }
   ],
   "source": [
    "sns.heatmap(cm8,annot=True)\n",
    "plt.xlabel(\"Predicted\")\n",
    "plt.ylabel(\"Truth\")"
   ]
  },
  {
   "cell_type": "code",
   "execution_count": 53,
   "id": "f2ea4b93",
   "metadata": {},
   "outputs": [
    {
     "name": "stdout",
     "output_type": "stream",
     "text": [
      "              precision    recall  f1-score   support\n",
      "\n",
      "           0       0.75      0.75      0.75         4\n",
      "           1       0.25      1.00      0.40         1\n",
      "           2       1.00      0.60      0.75         5\n",
      "           3       1.00      0.83      0.91         6\n",
      "\n",
      "    accuracy                           0.75        16\n",
      "   macro avg       0.75      0.80      0.70        16\n",
      "weighted avg       0.89      0.75      0.79        16\n",
      "\n"
     ]
    }
   ],
   "source": [
    "print(classification_report(y_test,predict8))"
   ]
  },
  {
   "cell_type": "code",
   "execution_count": 54,
   "id": "57a4cab4",
   "metadata": {},
   "outputs": [
    {
     "name": "stdout",
     "output_type": "stream",
     "text": [
      "Accuracy Score  :  0.75\n",
      "Precision Score :  0.75\n",
      "Recall Score    :  0.7958\n",
      "f1-Score        :  0.7023\n"
     ]
    }
   ],
   "source": [
    "accuracy_8 = round(accuracy_score(y_test,predict8),4)\n",
    "precision_8 = round(precision_score(y_test,predict8,average = 'macro'),4)\n",
    "recall_8 = round(recall_score(y_test,predict8, average = 'macro'),4)\n",
    "f1_8 = round(f1_score(y_test,predict8, average = 'macro'),4)\n",
    "\n",
    "print('Accuracy Score  : ', accuracy_8)\n",
    "print('Precision Score : ', precision_8)\n",
    "print('Recall Score    : ', recall_8)\n",
    "print('f1-Score        : ', f1_8)"
   ]
  },
  {
   "cell_type": "code",
   "execution_count": 57,
   "id": "daaffc35",
   "metadata": {},
   "outputs": [
    {
     "data": {
      "text/html": [
       "<div>\n",
       "<style scoped>\n",
       "    .dataframe tbody tr th:only-of-type {\n",
       "        vertical-align: middle;\n",
       "    }\n",
       "\n",
       "    .dataframe tbody tr th {\n",
       "        vertical-align: top;\n",
       "    }\n",
       "\n",
       "    .dataframe thead th {\n",
       "        text-align: right;\n",
       "    }\n",
       "</style>\n",
       "<table border=\"1\" class=\"dataframe\">\n",
       "  <thead>\n",
       "    <tr style=\"text-align: right;\">\n",
       "      <th></th>\n",
       "      <th>Classifier</th>\n",
       "      <th>Accuracy</th>\n",
       "      <th>Precision Score</th>\n",
       "      <th>Recall Score</th>\n",
       "      <th>F1_Score</th>\n",
       "    </tr>\n",
       "  </thead>\n",
       "  <tbody>\n",
       "    <tr>\n",
       "      <th>0</th>\n",
       "      <td>Logistic Regression</td>\n",
       "      <td>0.8750</td>\n",
       "      <td>0.8333</td>\n",
       "      <td>0.9000</td>\n",
       "      <td>0.8125</td>\n",
       "    </tr>\n",
       "    <tr>\n",
       "      <th>1</th>\n",
       "      <td>SVM Classifier</td>\n",
       "      <td>0.7500</td>\n",
       "      <td>0.7500</td>\n",
       "      <td>0.7958</td>\n",
       "      <td>0.7023</td>\n",
       "    </tr>\n",
       "    <tr>\n",
       "      <th>2</th>\n",
       "      <td>Random Forest Classifier</td>\n",
       "      <td>0.9375</td>\n",
       "      <td>0.8750</td>\n",
       "      <td>0.9500</td>\n",
       "      <td>0.8889</td>\n",
       "    </tr>\n",
       "    <tr>\n",
       "      <th>3</th>\n",
       "      <td>Naive-Bayes Classifier</td>\n",
       "      <td>0.7500</td>\n",
       "      <td>0.8000</td>\n",
       "      <td>0.8000</td>\n",
       "      <td>0.6667</td>\n",
       "    </tr>\n",
       "    <tr>\n",
       "      <th>4</th>\n",
       "      <td>Decision Tree Classifier</td>\n",
       "      <td>0.7500</td>\n",
       "      <td>0.8000</td>\n",
       "      <td>0.7875</td>\n",
       "      <td>0.6905</td>\n",
       "    </tr>\n",
       "    <tr>\n",
       "      <th>5</th>\n",
       "      <td>AdaBoost Classifier</td>\n",
       "      <td>0.7500</td>\n",
       "      <td>0.7500</td>\n",
       "      <td>0.7958</td>\n",
       "      <td>0.7023</td>\n",
       "    </tr>\n",
       "    <tr>\n",
       "      <th>6</th>\n",
       "      <td>Gradient Boosting Classifier</td>\n",
       "      <td>0.8750</td>\n",
       "      <td>0.8125</td>\n",
       "      <td>0.8958</td>\n",
       "      <td>0.8314</td>\n",
       "    </tr>\n",
       "    <tr>\n",
       "      <th>7</th>\n",
       "      <td>Xtreme Gradient Boosting Classifier</td>\n",
       "      <td>0.7500</td>\n",
       "      <td>0.7500</td>\n",
       "      <td>0.7958</td>\n",
       "      <td>0.7023</td>\n",
       "    </tr>\n",
       "  </tbody>\n",
       "</table>\n",
       "</div>"
      ],
      "text/plain": [
       "                            Classifier  Accuracy  Precision Score  \\\n",
       "0                  Logistic Regression    0.8750           0.8333   \n",
       "1                       SVM Classifier    0.7500           0.7500   \n",
       "2             Random Forest Classifier    0.9375           0.8750   \n",
       "3               Naive-Bayes Classifier    0.7500           0.8000   \n",
       "4             Decision Tree Classifier    0.7500           0.8000   \n",
       "5                  AdaBoost Classifier    0.7500           0.7500   \n",
       "6         Gradient Boosting Classifier    0.8750           0.8125   \n",
       "7  Xtreme Gradient Boosting Classifier    0.7500           0.7500   \n",
       "\n",
       "   Recall Score  F1_Score  \n",
       "0        0.9000    0.8125  \n",
       "1        0.7958    0.7023  \n",
       "2        0.9500    0.8889  \n",
       "3        0.8000    0.6667  \n",
       "4        0.7875    0.6905  \n",
       "5        0.7958    0.7023  \n",
       "6        0.8958    0.8314  \n",
       "7        0.7958    0.7023  "
      ]
     },
     "execution_count": 57,
     "metadata": {},
     "output_type": "execute_result"
    }
   ],
   "source": [
    "table = {'Classifier' : ['Logistic Regression','SVM Classifier','Random Forest Classifier', 'Naive-Bayes Classifier','Decision Tree Classifier','AdaBoost Classifier', 'Gradient Boosting Classifier', 'Xtreme Gradient Boosting Classifier'], 'Accuracy' : [accuracy_1, accuracy_2, accuracy_3, accuracy_4, accuracy_5, accuracy_6, accuracy_7, accuracy_8], 'Precision Score' : [precision_1, precision_2, precision_3, precision_4, precision_5, precision_6, precision_7, precision_8], 'Recall Score' : [recall_1, recall_2, recall_3, recall_4, recall_5, recall_6, recall_7, recall_8], 'F1_Score' : [f1_1, f1_2, f1_3, f1_4, f1_5, f1_6, f1_7, f1_8]}\n",
    "table = pd.DataFrame(table)\n",
    "#table.sort_values([\"Accuracy\"],inplace = True, ignore_index=True)\n",
    "table"
   ]
  },
  {
   "cell_type": "code",
   "execution_count": 72,
   "id": "34333685",
   "metadata": {},
   "outputs": [
    {
     "data": {
      "image/png": "[encoded data removed]",
      "text/plain": [
       "<Figure size 1080x432 with 1 Axes>"
      ]
     },
     "metadata": {
      "needs_background": "light"
     },
     "output_type": "display_data"
    }
   ],
   "source": [
    "#Accuracy\n",
    "plt.figure(figsize=(15,6))\n",
    "ax= sns.barplot(x=table.Classifier, y=table.Accuracy, palette =sns.color_palette(\"Set2\") )\n",
    "ax.set_xticklabels(ax.get_xticklabels(),rotation=30)\n",
    "plt.xlabel('Classification Models')\n",
    "plt.ylabel('Accuracy')\n",
    "plt.title('Accuracy Scores of Classification Models')\n",
    "for i in ax.patches:\n",
    "    ax.text(i.get_x()+.19, i.get_height()-0.3, \\\n",
    "            str(round((i.get_height()), 4)), fontsize=15, color='b')\n",
    "plt.show()"
   ]
  },
  {
   "cell_type": "markdown",
   "id": "8e99ff6e",
   "metadata": {},
   "source": [
    "We finalize RANDOM FOREST as it gives 93% Accuracy. Random Forest fits the model in Resume Classification."
   ]
  },
  {
   "cell_type": "code",
   "execution_count": 73,
   "id": "31058f3e",
   "metadata": {},
   "outputs": [],
   "source": [
    "import pickle\n",
    "from pickle import dump\n",
    "from pickle import load"
   ]
  },
  {
   "cell_type": "code",
   "execution_count": 75,
   "id": "fe0551a6",
   "metadata": {},
   "outputs": [],
   "source": [
    "dump(rf ,open('Random_Forest_model.pkl','wb'))"
   ]
  },
  {
   "cell_type": "code",
   "execution_count": null,
   "id": "b437af17",
   "metadata": {},
   "outputs": [],
   "source": []
  }
 ],
 "metadata": {
  "kernelspec": {
   "display_name": "Python 3 (ipykernel)",
   "language": "python",
   "name": "python3"
  },
  "language_info": {
   "codemirror_mode": {
    "name": "ipython",
    "version": 3
   },
   "file_extension": ".py",
   "mimetype": "text/x-python",
   "name": "python",
   "nbconvert_exporter": "python",
   "pygments_lexer": "ipython3",
   "version": "3.9.12"
  }
 },
 "nbformat": 4,
 "nbformat_minor": 5
}
